{
 "cells": [
  {
   "cell_type": "markdown",
   "id": "e9fbcf33-3bcf-4828-ba00-c09655b9ade0",
   "metadata": {},
   "source": [
    "# NumPy Arrays"
   ]
  },
  {
   "cell_type": "code",
   "execution_count": null,
   "id": "57e8c349-dc7d-4297-b723-855246250fb1",
   "metadata": {},
   "outputs": [],
   "source": [
    "import numpy as np # numpy is a library for numerical operations"
   ]
  },
  {
   "cell_type": "code",
   "execution_count": null,
   "id": "f0933e52-33ea-43ef-bf53-89b19aec919e",
   "metadata": {},
   "outputs": [
    {
     "name": "stdout",
     "output_type": "stream",
     "text": [
      "<class 'list'>\n"
     ]
    }
   ],
   "source": [
    "my_list = [1,2,3,4,5,6,7,8,9,10]\n",
    "print( type(my_list) )"
   ]
  },
  {
   "cell_type": "code",
   "execution_count": null,
   "id": "b3263e16",
   "metadata": {},
   "outputs": [
    {
     "name": "stdout",
     "output_type": "stream",
     "text": [
      "<class 'numpy.ndarray'>\n"
     ]
    }
   ],
   "source": [
    "my_array = np.array(my_list) # convert the list to a numpy array\n",
    "print( type(my_array) )"
   ]
  },
  {
   "cell_type": "code",
   "execution_count": 9,
   "id": "76344b8f",
   "metadata": {},
   "outputs": [
    {
     "data": {
      "text/plain": [
       "array([0, 2, 4, 6, 8])"
      ]
     },
     "execution_count": 9,
     "metadata": {},
     "output_type": "execute_result"
    }
   ],
   "source": [
    "np.arange(0,10,2) # create an array with values from 0 to 10 with a step of 2"
   ]
  },
  {
   "cell_type": "code",
   "execution_count": 14,
   "id": "ca02f2b8",
   "metadata": {},
   "outputs": [
    {
     "name": "stdout",
     "output_type": "stream",
     "text": [
      "[0. 0. 0. 0. 0.]\n"
     ]
    },
    {
     "data": {
      "text/plain": [
       "array([[0., 0., 0.],\n",
       "       [0., 0., 0.]])"
      ]
     },
     "execution_count": 14,
     "metadata": {},
     "output_type": "execute_result"
    }
   ],
   "source": [
    "print(np.zeros(5)) # create an array of zeros with 5 elements\n",
    "np.zeros(shape=(2,3)) # create a 2x3 matrix of zeros"
   ]
  },
  {
   "cell_type": "code",
   "execution_count": 15,
   "id": "24735f53",
   "metadata": {},
   "outputs": [
    {
     "data": {
      "text/plain": [
       "array([[1., 1., 1., 1., 1., 1.],\n",
       "       [1., 1., 1., 1., 1., 1.],\n",
       "       [1., 1., 1., 1., 1., 1.],\n",
       "       [1., 1., 1., 1., 1., 1.]])"
      ]
     },
     "execution_count": 15,
     "metadata": {},
     "output_type": "execute_result"
    }
   ],
   "source": [
    "np.ones(shape=(4,6)) # create a 4x6 matrix of ones"
   ]
  },
  {
   "cell_type": "code",
   "execution_count": 19,
   "id": "2e586142",
   "metadata": {},
   "outputs": [
    {
     "data": {
      "text/plain": [
       "array([95, 11, 81, 70, 63, 87, 75,  9, 77, 40])"
      ]
     },
     "execution_count": 19,
     "metadata": {},
     "output_type": "execute_result"
    }
   ],
   "source": [
    "np.random.seed(101) # set the seed for reproducibility \n",
    "# -- this creates random numbers that are the same every time\n",
    "np.random.randint(0,100,10) # create an array of 10 random integers between 0 and 100"
   ]
  },
  {
   "cell_type": "code",
   "execution_count": 39,
   "id": "3d7e9ce7",
   "metadata": {},
   "outputs": [
    {
     "name": "stdout",
     "output_type": "stream",
     "text": [
      "[71 20 27 75  5 49 86 89 63 82]\n",
      "[77  3 56 14 49 87 52 13 47 49]\n"
     ]
    }
   ],
   "source": [
    "arr1 = np.random.randint(0,100,10) # find the maximum value in the array\n",
    "print(arr1)\n",
    "arr2 = np.random.randint(0,100,10) # find the maximum value in the array\n",
    "print(arr2)"
   ]
  },
  {
   "cell_type": "code",
   "execution_count": 42,
   "id": "5a2daa68",
   "metadata": {},
   "outputs": [
    {
     "name": "stdout",
     "output_type": "stream",
     "text": [
      "arr1 min: 5\n",
      "arr1 max:89\n",
      "arr1 mean:56.7\n",
      "arr1 argmax:7\n",
      "arr1 argmin:4\n"
     ]
    }
   ],
   "source": [
    "print(\"arr1 min: \" + str(arr1.min())) # minimum value\n",
    "print(\"arr1 max:\" + str(arr1.max())) # maximum value\n",
    "print(\"arr1 mean:\" + str(arr1.mean())) # average\n",
    "print(\"arr1 argmax:\" + str(arr1.argmax())) # index of the maximum value\n",
    "print(\"arr1 argmin:\" + str(arr1.argmin())) # index of the minimum value"
   ]
  },
  {
   "cell_type": "code",
   "execution_count": 53,
   "id": "2907437a",
   "metadata": {},
   "outputs": [
    {
     "name": "stdout",
     "output_type": "stream",
     "text": [
      "[ 0  1  2  3  4  5  6  7  8  9 10]\n"
     ]
    }
   ],
   "source": [
    "arr = np.arange(0,11) # create an array from 0 to 10\n",
    "print(arr)"
   ]
  },
  {
   "cell_type": "code",
   "execution_count": 55,
   "id": "1ba61a87",
   "metadata": {},
   "outputs": [
    {
     "data": {
      "text/plain": [
       "(11,)"
      ]
     },
     "execution_count": 55,
     "metadata": {},
     "output_type": "execute_result"
    }
   ],
   "source": [
    "arr.shape # get the shape of the array"
   ]
  },
  {
   "cell_type": "code",
   "execution_count": null,
   "id": "ae3d4742",
   "metadata": {},
   "outputs": [],
   "source": [
    "arr.reshape"
   ]
  }
 ],
 "metadata": {
  "kernelspec": {
   "display_name": "base",
   "language": "python",
   "name": "python3"
  },
  "language_info": {
   "codemirror_mode": {
    "name": "ipython",
    "version": 3
   },
   "file_extension": ".py",
   "mimetype": "text/x-python",
   "name": "python",
   "nbconvert_exporter": "python",
   "pygments_lexer": "ipython3",
   "version": "3.12.7"
  }
 },
 "nbformat": 4,
 "nbformat_minor": 5
}

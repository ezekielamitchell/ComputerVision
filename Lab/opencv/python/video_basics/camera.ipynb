{
 "cells": [
  {
   "cell_type": "code",
   "execution_count": 2,
   "id": "1585932e",
   "metadata": {},
   "outputs": [],
   "source": [
    "import cv2\n",
    "import platform"
   ]
  },
  {
   "cell_type": "code",
   "execution_count": 5,
   "id": "a19b29bc",
   "metadata": {},
   "outputs": [],
   "source": [
    "capture = cv2.VideoCapture(2) # grab default camera\n",
    "\n",
    "width = int(capture.get(cv2.CAP_PROP_FRAME_WIDTH)) # grab frame width\n",
    "height = int(capture.get(cv2.CAP_PROP_FRAME_HEIGHT)) # grab frame height\n",
    "\n",
    "fps = capture.get(cv2.CAP_PROP_FPS)\n",
    "\n",
    "fourcc = cv2.VideoWriter_fourcc(*'mp4v')\n",
    "writer = cv2.VideoWriter('test_video.mp4', fourcc, 30, (width, height))\n",
    "\n",
    "while True:\n",
    "    ret, frame = capture.read()\n",
    "    if not ret:\n",
    "        break\n",
    "\n",
    "    writer.write(frame)\n",
    "    cv2.imshow(f'Frame | fps: {fps}', cv2.flip(frame,1))\n",
    "\n",
    "    if cv2.waitKey(1) & 0xFF == ord('q'):\n",
    "        break\n",
    "\n",
    "capture.release()\n",
    "writer.release()\n",
    "cv2.destroyAllWindows()"
   ]
  },
  {
   "cell_type": "code",
   "execution_count": null,
   "id": "fe89e389",
   "metadata": {},
   "outputs": [],
   "source": []
  }
 ],
 "metadata": {
  "kernelspec": {
   "display_name": "creator",
   "language": "python",
   "name": "python3"
  },
  "language_info": {
   "codemirror_mode": {
    "name": "ipython",
    "version": 3
   },
   "file_extension": ".py",
   "mimetype": "text/x-python",
   "name": "python",
   "nbconvert_exporter": "python",
   "pygments_lexer": "ipython3",
   "version": "3.12.3"
  }
 },
 "nbformat": 4,
 "nbformat_minor": 5
}

{
 "cells": [
  {
   "cell_type": "code",
   "execution_count": 2,
   "id": "78597b22",
   "metadata": {},
   "outputs": [],
   "source": [
    "import cv2"
   ]
  },
  {
   "cell_type": "code",
   "execution_count": null,
   "id": "ad6de973",
   "metadata": {},
   "outputs": [
    {
     "name": "stderr",
     "output_type": "stream",
     "text": [
      "qt.qpa.plugin: Could not find the Qt platform plugin \"wayland\" in \"/home/ezekiel/creator/lib/python3.12/site-packages/cv2/qt/plugins\"\n"
     ]
    }
   ],
   "source": [
    "# CALLBACK -- RECTANGLE\n",
    "def draw_rectangle(event, x, y, flags, param):\n",
    "    global pt1, pt2, top_left_clicked, bottom_right_clicked\n",
    "\n",
    "    if event == cv2.EVENT_LBUTTONDOWN:\n",
    "        if top_left_clicked and bottom_right_clicked:\n",
    "            # RESET THE RECTANGLE\n",
    "            pt1 = (0,0)\n",
    "            pt2 = (0,0)\n",
    "            top_left_clicked = False\n",
    "            bottom_right_clicked = False\n",
    "        \n",
    "        if not top_left_clicked:\n",
    "            pt1 = (x,y)\n",
    "            top_left_clicked = True\n",
    "    \n",
    "        elif not bottom_right_clicked:\n",
    "            pt2 = (x,y)\n",
    "            bottom_right_clicked = True\n",
    "    pass\n",
    "\n",
    "# GLOBAL VARs\n",
    "pt1 = (0,0)\n",
    "pt2 = (0,0)\n",
    "\n",
    "top_left_clicked = False\n",
    "bottom_right_clicked = False\n",
    "\n",
    "# CALLBACK CONNECT\n",
    "cap = cv2.VideoCapture(2)\n",
    "\n",
    "cv2.namedWindow('Test')\n",
    "cv2.setMouseCallback('Test', draw_rectangle)\n",
    "\n",
    "width = int(cap.get(cv2.CAP_PROP_FRAME_WIDTH))\n",
    "height = int(cap.get(cv2.CAP_PROP_FRAME_HEIGHT))\n",
    "\n",
    "while True:\n",
    "    ret, frame = cap.read()\n",
    "    if not ret: break\n",
    "\n",
    "    # DRAW\n",
    "    if top_left_clicked:\n",
    "        cv2.circle(frame, center=pt1, radius=3, color=(0,0,255), thickness=-1) # top left mark\n",
    "\n",
    "    if top_left_clicked and bottom_right_clicked:\n",
    "        cv2.rectangle(frame, pt1, pt2, color=(0,0,255), thickness=3)\n",
    "\n",
    "    cv2.imshow('Test',frame)\n",
    "\n",
    "    if cv2.waitKey(1) & 0xFF == ord('q'):\n",
    "        break\n",
    "\n",
    "cap.release()\n",
    "cv2.destroyAllWindows()"
   ]
  },
  {
   "cell_type": "code",
   "execution_count": null,
   "id": "95a65fcf",
   "metadata": {},
   "outputs": [],
   "source": []
  }
 ],
 "metadata": {
  "kernelspec": {
   "display_name": "creator",
   "language": "python",
   "name": "python3"
  },
  "language_info": {
   "codemirror_mode": {
    "name": "ipython",
    "version": 3
   },
   "file_extension": ".py",
   "mimetype": "text/x-python",
   "name": "python",
   "nbconvert_exporter": "python",
   "pygments_lexer": "ipython3",
   "version": "3.12.3"
  }
 },
 "nbformat": 4,
 "nbformat_minor": 5
}

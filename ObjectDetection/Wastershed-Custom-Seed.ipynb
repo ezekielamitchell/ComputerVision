{
 "cells": [
  {
   "cell_type": "code",
   "execution_count": 16,
   "id": "92b426a5-30fa-42ab-9bdf-1f60ff681c78",
   "metadata": {},
   "outputs": [],
   "source": [
    "import cv2\n",
    "import numpy as np\n",
    "import matplotlib.pyplot as plt"
   ]
  },
  {
   "cell_type": "code",
   "execution_count": 17,
   "id": "fcfac900-4b3e-4583-a30f-ee68f8850857",
   "metadata": {},
   "outputs": [],
   "source": [
    "img = cv2.imread('../Computer-Vision-with-Python/DATA/road_image.jpg')"
   ]
  },
  {
   "cell_type": "code",
   "execution_count": 18,
   "id": "db362dd9-e54f-4c16-aaec-bb156687aae4",
   "metadata": {},
   "outputs": [],
   "source": [
    "def display(img,cmap='gray'):\n",
    "    fig = plt.figure(figsize=(12,10))\n",
    "    ax = fig.add_subplot(111)\n",
    "    ax.imshow(img,cmap='gray')"
   ]
  },
  {
   "cell_type": "code",
   "execution_count": 19,
   "id": "d89f6285-35c4-4384-bc1c-76b95105dbca",
   "metadata": {},
   "outputs": [],
   "source": [
    "road_copy = img.copy()"
   ]
  },
  {
   "cell_type": "code",
   "execution_count": 20,
   "id": "04b7faed-c859-4ea7-bc40-f3d6a6f1f57f",
   "metadata": {},
   "outputs": [
    {
     "data": {
      "text/plain": [
       "(600, 800, 3)"
      ]
     },
     "execution_count": 20,
     "metadata": {},
     "output_type": "execute_result"
    }
   ],
   "source": [
    "img.shape"
   ]
  },
  {
   "cell_type": "code",
   "execution_count": 31,
   "id": "b7a73ea2-f8d4-4608-866e-3ed25b5b6268",
   "metadata": {},
   "outputs": [],
   "source": [
    "marker_image = np.zeros(img.shape[:2],dtype=np.int32)"
   ]
  },
  {
   "cell_type": "code",
   "execution_count": 32,
   "id": "fc748750-f295-4709-a122-aafa4488006e",
   "metadata": {},
   "outputs": [],
   "source": [
    "segments = np.zeros(img.shape,dtype=np.uint8)"
   ]
  },
  {
   "cell_type": "code",
   "execution_count": 33,
   "id": "c8655eea-e987-45fe-a31c-3ad500478f45",
   "metadata": {},
   "outputs": [],
   "source": [
    "from matplotlib import cm"
   ]
  },
  {
   "cell_type": "code",
   "execution_count": 34,
   "id": "bb1dc176-89fb-497b-b4d6-5e273a0df946",
   "metadata": {},
   "outputs": [
    {
     "data": {
      "text/plain": [
       "(0.12156862745098039, 0.4666666666666667, 0.7058823529411765, 1.0)"
      ]
     },
     "execution_count": 34,
     "metadata": {},
     "output_type": "execute_result"
    }
   ],
   "source": [
    "cm.tab10(0)"
   ]
  },
  {
   "cell_type": "code",
   "execution_count": 35,
   "id": "6bd37ceb-1e9d-42f5-b1d0-5bfc53cc09a5",
   "metadata": {},
   "outputs": [],
   "source": [
    "def create_rgb(i):\n",
    "    return tuple(np.array(cm.tab10(i)[:3])*255)"
   ]
  },
  {
   "cell_type": "code",
   "execution_count": 36,
   "id": "891f74c2-326b-4b5d-a5e3-a4a549cc4ff0",
   "metadata": {},
   "outputs": [],
   "source": [
    "colors =[]\n",
    "for i in range(10):\n",
    "    colors.append(create_rgb(i))"
   ]
  },
  {
   "cell_type": "code",
   "execution_count": 37,
   "id": "0658c126-6b89-4106-bdc3-24e912be8c6f",
   "metadata": {},
   "outputs": [
    {
     "data": {
      "text/plain": [
       "[(31.0, 119.0, 180.0),\n",
       " (255.0, 127.0, 14.0),\n",
       " (44.0, 160.0, 44.0),\n",
       " (214.0, 39.0, 40.0),\n",
       " (148.0, 103.0, 189.0),\n",
       " (140.0, 86.0, 75.0),\n",
       " (227.0, 119.0, 194.0),\n",
       " (127.0, 127.0, 127.0),\n",
       " (188.0, 189.0, 34.0),\n",
       " (23.0, 190.0, 207.0)]"
      ]
     },
     "execution_count": 37,
     "metadata": {},
     "output_type": "execute_result"
    }
   ],
   "source": [
    "colors"
   ]
  },
  {
   "cell_type": "code",
   "execution_count": 38,
   "id": "c3316c2b-4168-4360-8544-6cc5977a19dc",
   "metadata": {},
   "outputs": [],
   "source": [
    "current_marker = 1 # color choice\n",
    "n_markers = 10 #0-9\n",
    "marks_updated = False # updated by watershed"
   ]
  },
  {
   "cell_type": "code",
   "execution_count": 39,
   "id": "095868b9-dbae-4b82-b24d-b553b884bb4e",
   "metadata": {},
   "outputs": [],
   "source": [
    "def mouse_callback(event,x,y,flags,param):\n",
    "    global marks_updated\n",
    "\n",
    "    if event == cv2.EVENT_LBUTTONDOWN:\n",
    "        cv2.circle(marker_image,(x,y),10,(current_marker),-1)\n",
    "        cv2.circle(road_copy,(x,y),10,colors[current_marker],-1)\n",
    "        marks_updated = True"
   ]
  },
  {
   "cell_type": "code",
   "execution_count": 44,
   "id": "050b902b-d88a-4210-acf3-a37667d54525",
   "metadata": {},
   "outputs": [],
   "source": [
    "cv2.namedWindow('Road Image')\n",
    "cv2.setMouseCallback('Road Image',mouse_callback)\n",
    "\n",
    "while True:\n",
    "    cv2.imshow('Watershed Segments',segments)\n",
    "    cv2.imshow('Road Image',road_copy)\n",
    "\n",
    "    k = cv2.waitKey(1)\n",
    "    if k == ord('q'):\n",
    "        break\n",
    "\n",
    "    elif k == ord('c'):\n",
    "        road_copy = img.copy()\n",
    "        marker_image = np.zeros(img.shape[:2],dtype=np.int32)\n",
    "        segments = np.zeros(img.shape,dtype=np.uint8)\n",
    "\n",
    "    elif k > 0 and chr(k).isdigit():\n",
    "        current_marker = int(chr(k))\n",
    "\n",
    "    if marks_updated:\n",
    "        marker_image_copy = marker_image.copy()\n",
    "        cv2.watershed(img,marker_image_copy)\n",
    "        segments = np.zeros(img.shape,dtype=np.uint8)\n",
    "        \n",
    "\n",
    "        for color_ind in range(n_markers):\n",
    "            segments[marker_image_copy==(color_ind)] = colors[color_ind]\n",
    "cv2.destroyAllWindows()"
   ]
  },
  {
   "cell_type": "code",
   "execution_count": null,
   "id": "fec13674-27b2-4211-b805-5a7bfa3620ff",
   "metadata": {},
   "outputs": [],
   "source": []
  }
 ],
 "metadata": {
  "kernelspec": {
   "display_name": "Python (opencv-env)",
   "language": "python",
   "name": "opencv-env"
  },
  "language_info": {
   "codemirror_mode": {
    "name": "ipython",
    "version": 3
   },
   "file_extension": ".py",
   "mimetype": "text/x-python",
   "name": "python",
   "nbconvert_exporter": "python",
   "pygments_lexer": "ipython3",
   "version": "3.8.19"
  }
 },
 "nbformat": 4,
 "nbformat_minor": 5
}

{
 "cells": [
  {
   "cell_type": "markdown",
   "id": "03ff9f08-d2c6-4d6f-9ae5-498c922086d6",
   "metadata": {},
   "source": [
    "# Optical Flow\n",
    "## Lucas-Kanade algorithm (tracks certain points in frame)\n",
    "1. [CV] takes in a given set of points and a frame\n",
    "2. [CV] attempts to find the given points in the following frame\n",
    "\n",
    "## Gunner Farneback algorithm (tracks all points within frame)\n",
    "1. [CV] calculates dense optical flow (all points in frame)\n",
    "2. [CV] color non-moving objects black and assign different colors to moving objects"
   ]
  },
  {
   "cell_type": "code",
   "execution_count": 19,
   "id": "e93fde98-fa43-487e-9dd4-65e2c0c1aeb7",
   "metadata": {},
   "outputs": [],
   "source": [
    "import cv2\n",
    "import numpy as np\n",
    "import matplotlib.pyplot as plt"
   ]
  },
  {
   "cell_type": "code",
   "execution_count": 20,
   "id": "738b13e3-ae4a-4839-9202-4599c8bebc95",
   "metadata": {},
   "outputs": [],
   "source": [
    "# using the first frame of the video: detect 10 corners -> track them\n",
    "corner_tracking_params = dict(maxCorners = 10, qualityLevel = 0.3, minDistance = 7, blockSize = 7)\n",
    "\n",
    "# Lucas-K parameters\n",
    "lk_params = dict(winSize = (200,200), maxLevel = 2, criteria = (cv2.TERM_CRITERIA_EPS | cv2.TERM_CRITERIA_COUNT, 10, 0.03))"
   ]
  },
  {
   "cell_type": "code",
   "execution_count": 22,
   "id": "58d1e0bc-22ca-49fd-a184-ea2066c5d677",
   "metadata": {},
   "outputs": [],
   "source": [
    "cap = cv2.VideoCapture(0)\n",
    "ret, prev_frame = cap.read()\n",
    "prev_frame = cv2.flip(prev_frame, 1)\n",
    "\n",
    "prev_gray = cv2.cvtColor(prev_frame, cv2.COLOR_BGR2GRAY)\n",
    "\n",
    "# Tracking points : top 10 corners\n",
    "prevPts = cv2.goodFeaturesToTrack(prev_gray, mask=None, **corner_tracking_params)\n",
    "\n",
    "# drawing lines mask\n",
    "mask = np.zeros_like(prev_frame)\n",
    "\n",
    "while True:\n",
    "    ret, frame = cap.read()\n",
    "    frame = cv2.flip(frame, 1)\n",
    "    frame_gray = cv2.cvtColor(frame, cv2.COLOR_BGR2GRAY)\n",
    "\n",
    "    # calculate optical flow\n",
    "    nextPts, status, err = cv2.calcOpticalFlowPyrLK(prev_gray, frame_gray, prevPts, None, **lk_params)\n",
    "\n",
    "    good_new = nextPts[status==1]\n",
    "    good_prev = prevPts[status==1]\n",
    "\n",
    "    for i, (new,prev) in enumerate(zip(good_new,good_prev)):\n",
    "        x_new, y_new = new.ravel()\n",
    "        x_prev, y_prev = prev.ravel()\n",
    "\n",
    "        cv2.line(mask, (int(x_new), int(y_new)), (int(x_prev), int(y_prev)), (255,255,255), 3)\n",
    "\n",
    "        frame = cv2.circle(frame,(int(x_new),int(y_new)),8,(255,255,255),-1)\n",
    "\n",
    "    img = cv2.add(frame,mask)\n",
    "    cv2.imshow('Tracking', img)\n",
    "\n",
    "    if cv2.waitKey(30) & 0xFF == ord('q'):\n",
    "        break\n",
    "\n",
    "    prev_gray = frame_gray.copy()\n",
    "    prevPts = good_new.reshape(-1,1,2)\n",
    "\n",
    "cap.release()\n",
    "cv2.destroyAllWindows()"
   ]
  },
  {
   "cell_type": "code",
   "execution_count": 18,
   "id": "bd17378e-c137-4a79-bf7b-92897bad8600",
   "metadata": {},
   "outputs": [],
   "source": [
    "cap.release()\n",
    "cv2.destroyAllWindows()"
   ]
  },
  {
   "cell_type": "code",
   "execution_count": null,
   "id": "152d0393-7409-4dfb-a13a-bd4a7776b62f",
   "metadata": {},
   "outputs": [],
   "source": []
  }
 ],
 "metadata": {
  "kernelspec": {
   "display_name": "Python (opencv-env)",
   "language": "python",
   "name": "opencv-env"
  },
  "language_info": {
   "codemirror_mode": {
    "name": "ipython",
    "version": 3
   },
   "file_extension": ".py",
   "mimetype": "text/x-python",
   "name": "python",
   "nbconvert_exporter": "python",
   "pygments_lexer": "ipython3",
   "version": "3.8.19"
  }
 },
 "nbformat": 4,
 "nbformat_minor": 5
}

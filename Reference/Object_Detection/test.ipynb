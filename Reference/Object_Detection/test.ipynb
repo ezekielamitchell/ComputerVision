{
 "cells": [
  {
   "cell_type": "code",
   "execution_count": 1,
   "id": "ed1493ca-3702-4f07-80f3-4bacd8459aef",
   "metadata": {},
   "outputs": [],
   "source": [
    "# Take a snapshot of my face utilizing my camera\n",
    "# Save the photo\n",
    "# Display the photo with corner detection"
   ]
  },
  {
   "cell_type": "code",
   "execution_count": 2,
   "id": "ebe59e57-2c53-4d7e-bfec-c68940a90768",
   "metadata": {},
   "outputs": [],
   "source": [
    "import os\n",
    "import cv2\n",
    "import numpy as np\n",
    "import matplotlib.pyplot as plt\n",
    "%matplotlib inline"
   ]
  },
  {
   "cell_type": "code",
   "execution_count": 3,
   "id": "d41e0ce6-14a0-4de3-b766-3b4cb78f3492",
   "metadata": {},
   "outputs": [
    {
     "name": "stdout",
     "output_type": "stream",
     "text": [
      "snapshot save pass\n"
     ]
    }
   ],
   "source": [
    "cap = cv2.VideoCapture(2) # initialize camera\n",
    "\n",
    "if not cap.isOpened(): # exit if camera connection fails\n",
    "    print('error initializing camera')\n",
    "    exit()\n",
    "\n",
    "ret, frame = cap.read() # capture img\n",
    "\n",
    "if ret:\n",
    "    cv2.imwrite('pass.jpg', frame)\n",
    "    print('snapshot save pass')\n",
    "else:\n",
    "    print('error saving snapshot')\n",
    "\n",
    "cap.release()\n",
    "cv2.destroyAllWindows()\n",
    "\n",
    "\n"
   ]
  },
  {
   "cell_type": "code",
   "execution_count": 4,
   "id": "b75bc204-491b-4a98-82bd-4fdd7bcff3dd",
   "metadata": {
    "scrolled": true
   },
   "outputs": [],
   "source": [
    "gray = cv2.cvtColor(frame, cv2.COLOR_BGR2GRAY) # save as grayscale"
   ]
  },
  {
   "cell_type": "code",
   "execution_count": 5,
   "id": "fe2b5e8c-1433-4b20-99b1-648fb5b596ab",
   "metadata": {},
   "outputs": [],
   "source": [
    "gray = np.float32(gray)"
   ]
  },
  {
   "cell_type": "code",
   "execution_count": 6,
   "id": "7f3568ba-2bb6-4027-bb55-993f48c535bc",
   "metadata": {},
   "outputs": [],
   "source": [
    "dst = cv2.cornerHarris(gray,2,3,0.04)\n",
    "dst = cv2.dilate(dst,None)"
   ]
  },
  {
   "cell_type": "code",
   "execution_count": 7,
   "id": "96d09963-4a36-48c6-ac1d-e16ff92f6f77",
   "metadata": {},
   "outputs": [],
   "source": [
    "frame[dst>0.01*dst.max()]=[0,0,255]"
   ]
  },
  {
   "cell_type": "code",
   "execution_count": 9,
   "id": "ff1a50a8-be3e-4429-9a73-65ec2d00b9ec",
   "metadata": {},
   "outputs": [],
   "source": [
    "cv2.imshow('Corner Detector',frame)\n",
    "\n",
    "if cv2.waitKey(0) == ord('q'):\n",
    "    cv2.imwrite('pass_corners.jpg',frame)\n",
    "    cv2.destroyAllWindows()\n",
    "\n"
   ]
  },
  {
   "cell_type": "code",
   "execution_count": null,
   "id": "e5e7b6aa-ae26-41f9-9dd5-77054f9307fb",
   "metadata": {},
   "outputs": [],
   "source": []
  },
  {
   "cell_type": "code",
   "execution_count": null,
   "id": "089d5f34-4499-482c-a61a-1eb73bf51a74",
   "metadata": {},
   "outputs": [],
   "source": []
  }
 ],
 "metadata": {
  "kernelspec": {
   "display_name": "Python 3 (ipykernel)",
   "language": "python",
   "name": "python3"
  },
  "language_info": {
   "codemirror_mode": {
    "name": "ipython",
    "version": 3
   },
   "file_extension": ".py",
   "mimetype": "text/x-python",
   "name": "python",
   "nbconvert_exporter": "python",
   "pygments_lexer": "ipython3",
   "version": "3.8.19"
  }
 },
 "nbformat": 4,
 "nbformat_minor": 5
}

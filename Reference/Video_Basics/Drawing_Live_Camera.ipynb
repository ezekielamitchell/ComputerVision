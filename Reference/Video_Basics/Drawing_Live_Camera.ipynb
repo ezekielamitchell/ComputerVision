{
 "cells": [
  {
   "cell_type": "code",
   "execution_count": 5,
   "id": "c610b45f-209d-4a27-9be0-8d8d7319d11e",
   "metadata": {
    "editable": true,
    "slideshow": {
     "slide_type": ""
    },
    "tags": []
   },
   "outputs": [],
   "source": [
    "import cv2\n",
    "import numpy as np\n",
    "import matplotlib as plt\n",
    "%matplotlib inline\n",
    "\n",
    "## CALLBACK FUNCTION RECTANGLE\n",
    "def draw_rectangle(event, x, y, flags, param):\n",
    "    global pt1,pt2,topLeft,bottomRight\n",
    "\n",
    "    if event == cv2.EVENT_LBUTTONDOWN:\n",
    "        \n",
    "        # RESET RECTANGLE\n",
    "        if topLeft & bottomRight:\n",
    "            pt1 = (0,0)\n",
    "            pt2 = (0,0)\n",
    "            topLeft = False\n",
    "            bottomRight = False\n",
    "    \n",
    "        if topLeft == False:\n",
    "            pt1 = (x,y)\n",
    "            topLeft = True\n",
    "    \n",
    "        elif bottomRight == False:\n",
    "            pt2 = (x,y)\n",
    "            bottomRight = True\n",
    "\n",
    "\n",
    "\n",
    "## GLOBAL VARIABLES\n",
    "pt1 = (0,0)\n",
    "pt2 = (0,0)\n",
    "topLeft = False\n",
    "bottomRight = False\n",
    "\n",
    "## CONNECT TO CALLBACK\n",
    "cap = cv2.VideoCapture(0)\n",
    "\n",
    "cv2.namedWindow('Test')\n",
    "cv2.setMouseCallback('Test',draw_rectangle)\n",
    "\n",
    "while True:\n",
    "    ret,frame = cap.read()\n",
    "\n",
    "    ## Drawing on frame based off global variables\n",
    "    if topLeft:\n",
    "        cv2.circle(frame, center=pt1,radius=5,color=(0,0,255),thickness=-1)\n",
    "\n",
    "    if topLeft & bottomRight:\n",
    "        cv2.rectangle(frame,pt1,pt2,(0,0,255),3)\n",
    "        \n",
    "    cv2.imshow('Test', frame)\n",
    "\n",
    "    if cv2.waitKey(1) & 0xFF == ord('q'):\n",
    "        break;\n",
    "\n",
    "cap.release()\n",
    "cv2.destroyAllWindows()"
   ]
  },
  {
   "cell_type": "code",
   "execution_count": null,
   "id": "cbb7ddc3-9e20-44f4-97c2-077d5bc27484",
   "metadata": {},
   "outputs": [],
   "source": []
  },
  {
   "cell_type": "code",
   "execution_count": null,
   "id": "dfa3d535-8494-4fac-a8f8-4ab10f3cf4d2",
   "metadata": {},
   "outputs": [],
   "source": []
  }
 ],
 "metadata": {
  "kernelspec": {
   "display_name": "Python (opencv-env)",
   "language": "python",
   "name": "opencv-env"
  },
  "language_info": {
   "codemirror_mode": {
    "name": "ipython",
    "version": 3
   },
   "file_extension": ".py",
   "mimetype": "text/x-python",
   "name": "python",
   "nbconvert_exporter": "python",
   "pygments_lexer": "ipython3",
   "version": "3.8.19"
  }
 },
 "nbformat": 4,
 "nbformat_minor": 5
}

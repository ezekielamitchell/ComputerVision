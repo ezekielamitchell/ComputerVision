{
 "cells": [
  {
   "cell_type": "code",
   "execution_count": 5,
   "id": "0f2e4e7e-2729-4c48-8c56-aa1b4a41672d",
   "metadata": {},
   "outputs": [],
   "source": [
    "import cv2 as cv\n",
    "import time\n",
    "\n",
    "\n",
    "cap = cv.VideoCapture('test-video0.mp4')\n",
    "\n",
    "if cap.isOpened() == False:\n",
    "    print('err: file not found || wrong CODEC used')\n",
    "\n",
    "\n",
    "while cap.isOpened():\n",
    "    ret,frame = cap.read()\n",
    "\n",
    "    if ret == True:\n",
    "\n",
    "        # writer 60 fps --- not needed unless human watching video\n",
    "        time.sleep(1/60)\n",
    "        cv.imshow('frame',frame)\n",
    "\n",
    "\n",
    "        if cv.waitKey(10) & 0xFF == ord('q'):\n",
    "            break\n",
    "\n",
    "    else:\n",
    "        break\n",
    "\n",
    "cap.release()\n",
    "cv.destroyAllWindows()"
   ]
  },
  {
   "cell_type": "code",
   "execution_count": null,
   "id": "174d1ed1-bd6e-4bac-8878-d7c7cc9229af",
   "metadata": {},
   "outputs": [],
   "source": []
  }
 ],
 "metadata": {
  "kernelspec": {
   "display_name": "Python (opencv-env)",
   "language": "python",
   "name": "opencv-env"
  },
  "language_info": {
   "codemirror_mode": {
    "name": "ipython",
    "version": 3
   },
   "file_extension": ".py",
   "mimetype": "text/x-python",
   "name": "python",
   "nbconvert_exporter": "python",
   "pygments_lexer": "ipython3",
   "version": "3.8.19"
  }
 },
 "nbformat": 4,
 "nbformat_minor": 5
}

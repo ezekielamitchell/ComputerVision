{
 "cells": [
  {
   "cell_type": "code",
   "execution_count": 1,
   "id": "023cfa7c-5df4-45e7-8eca-3fe664db9a1c",
   "metadata": {},
   "outputs": [],
   "source": [
    "##### SETUP #####\n",
    "import cv2 as cv\n",
    "vid = cv.VideoCapture(0)\n",
    "##### BUILD #####\n",
    "while (True):\n",
    "    ret, frame = vid.read() # read frame\n",
    "    cv.imshow('frame', frame) # display frame\n",
    "\n",
    "    if cv.waitKey(1) & 0xFF == ord('q'):\n",
    "        break ## break once esc key is pressed\n",
    "\n",
    "vid.release() # release cap object\n",
    "cv.destroyAllWindows()"
   ]
  },
  {
   "cell_type": "code",
   "execution_count": null,
   "id": "36b214b6-052d-4978-a29a-4486756faf13",
   "metadata": {},
   "outputs": [],
   "source": []
  }
 ],
 "metadata": {
  "kernelspec": {
   "display_name": "Python (opencv-env)",
   "language": "python",
   "name": "opencv-env"
  },
  "language_info": {
   "codemirror_mode": {
    "name": "ipython",
    "version": 3
   },
   "file_extension": ".py",
   "mimetype": "text/x-python",
   "name": "python",
   "nbconvert_exporter": "python",
   "pygments_lexer": "ipython3",
   "version": "3.8.19"
  }
 },
 "nbformat": 4,
 "nbformat_minor": 5
}

{
 "cells": [
  {
   "cell_type": "markdown",
   "metadata": {},
   "source": [
    "# Section 3: Image Basics with OpenCV\n",
    "\n",
    "Topics covered:\n",
    "- Introduction to Images and OpenCV Basics\n",
    "- Opening Image files in a notebook\n",
    "- Opening Image files with OpenCV\n",
    "- Drawing on Images - Part One - Basic Shapes\n",
    "- Drawing on Images Part Two - Text and Polygons\n",
    "- Direct Drawing on Images with a mouse - Part One\n",
    "- Direct Drawing on Images with a mouse - Part Two\n",
    "- Direct Drawing on Images with a mouse - Part Three\n",
    "- Image Basics Assessment\n",
    "- Image Basics Assessment Solutions"
   ]
  },
  {
   "cell_type": "code",
   "execution_count": null,
   "metadata": {},
   "outputs": [],
   "source": [
    "import cv2\n",
    "import numpy as np\n",
    "import matplotlib.pyplot as plt\n",
    "%matplotlib inline"
   ]
  },
  {
   "cell_type": "code",
   "execution_count": null,
   "metadata": {},
   "outputs": [],
   "source": [
    "# Your code here"
   ]
  }
 ],
 "metadata": {
  "kernelspec": {
   "display_name": "Python 3",
   "language": "python",
   "name": "python3"
  },
  "language_info": {
   "name": "python",
   "version": "3.x"
  }
 },
 "nbformat": 4,
 "nbformat_minor": 4
}

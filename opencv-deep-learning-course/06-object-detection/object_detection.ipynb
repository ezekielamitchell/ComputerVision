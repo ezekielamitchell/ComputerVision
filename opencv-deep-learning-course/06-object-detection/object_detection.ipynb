{
 "cells": [
  {
   "cell_type": "markdown",
   "metadata": {},
   "source": [
    "# Section 6: Object Detection with OpenCV and Python\n",
    "\n",
    "Topics covered:\n",
    "- Introduction to Object Detection\n",
    "- Template Matching\n",
    "- Corner Detection - Part One - Harris Corner Detection\n",
    "- Corner Detection - Part Two - Shi-Tomasi Detection\n",
    "- Edge Detection\n",
    "- Grid Detection\n",
    "- Contour Detection\n",
    "- Feature Matching - Part One\n",
    "- Feature Matching - Part Two\n",
    "- Watershed Algorithm - Part One\n",
    "- Watershed Algorithm - Part Two\n",
    "- Custom Seeds with Watershed Algorithm\n",
    "- Introduction to Face Detection\n",
    "- Face Detection with OpenCV\n",
    "- Detection Assessment\n",
    "- Detection Assessment Solutions"
   ]
  },
  {
   "cell_type": "code",
   "execution_count": null,
   "metadata": {},
   "outputs": [],
   "source": [
    "import cv2\n",
    "import numpy as np\n",
    "import matplotlib.pyplot as plt\n",
    "%matplotlib inline"
   ]
  },
  {
   "cell_type": "code",
   "execution_count": null,
   "metadata": {},
   "outputs": [],
   "source": [
    "# Your code here"
   ]
  }
 ],
 "metadata": {
  "kernelspec": {
   "display_name": "Python 3",
   "language": "python",
   "name": "python3"
  },
  "language_info": {
   "name": "python",
   "version": "3.x"
  }
 },
 "nbformat": 4,
 "nbformat_minor": 4
}

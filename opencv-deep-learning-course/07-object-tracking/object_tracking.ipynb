{
 "cells": [
  {
   "cell_type": "markdown",
   "metadata": {},
   "source": [
    "# Section 7: Object Tracking\n",
    "\n",
    "Topics covered:\n",
    "- Introduction to Object Tracking\n",
    "- Optical Flow\n",
    "- Optical Flow Coding with OpenCV - Part One\n",
    "- Optical Flow Coding with OpenCV - Part Two\n",
    "- MeanShift and CamShift Tracking Theory\n",
    "- MeanShift and CamShift Tracking with OpenCV\n",
    "- Overview of various Tracking API Methods\n",
    "- Tracking APIs with OpenCV"
   ]
  },
  {
   "cell_type": "code",
   "execution_count": null,
   "metadata": {},
   "outputs": [],
   "source": [
    "import cv2\n",
    "import numpy as np\n",
    "import matplotlib.pyplot as plt\n",
    "%matplotlib inline"
   ]
  },
  {
   "cell_type": "code",
   "execution_count": null,
   "metadata": {},
   "outputs": [],
   "source": [
    "# Your code here"
   ]
  }
 ],
 "metadata": {
  "kernelspec": {
   "display_name": "Python 3",
   "language": "python",
   "name": "python3"
  },
  "language_info": {
   "name": "python",
   "version": "3.x"
  }
 },
 "nbformat": 4,
 "nbformat_minor": 4
}

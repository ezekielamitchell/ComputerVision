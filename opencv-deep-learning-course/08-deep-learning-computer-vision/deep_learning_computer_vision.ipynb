{
 "cells": [
  {
   "cell_type": "markdown",
   "metadata": {},
   "source": [
    "# Section 8: Deep Learning for Computer Vision\n",
    "\n",
    "Topics covered:\n",
    "- Introduction to Deep Learning for Computer Vision\n",
    "- Machine Learning Basics\n",
    "- Understanding Classification Metrics\n",
    "- Introduction to Deep Learning Topics\n",
    "- Understanding a Neuron\n",
    "- Understanding a Neural Network\n",
    "- Cost Functions\n",
    "- Gradient Descent and Back Propagation\n",
    "- Keras Basics\n",
    "- MNIST Data Overview\n",
    "- Convolutional Neural Networks Overview - Part One\n",
    "- Convolutional Neural Networks Overview - Part Two\n",
    "- Keras Convolutional Neural Networks with MNIST\n",
    "- Keras Convolutional Neural Networks with CIFAR-10\n",
    "- Deep Learning on Custom Images - Part One\n",
    "- Deep Learning on Custom Images - Part Two\n",
    "- Deep Learning and Convolutional Neural Networks Assessment\n",
    "- Deep Learning and Convolutional Neural Networks Assessment Solutions\n",
    "- Introduction to YOLO v3\n",
    "- YOLO v3 with Python"
   ]
  },
  {
   "cell_type": "code",
   "execution_count": null,
   "metadata": {},
   "outputs": [],
   "source": [
    "import cv2\n",
    "import numpy as np\n",
    "import matplotlib.pyplot as plt\n",
    "import tensorflow as tf\n",
    "from tensorflow import keras\n",
    "%matplotlib inline"
   ]
  },
  {
   "cell_type": "code",
   "execution_count": null,
   "metadata": {},
   "outputs": [],
   "source": [
    "# Your code here"
   ]
  }
 ],
 "metadata": {
  "kernelspec": {
   "display_name": "Python 3",
   "language": "python",
   "name": "python3"
  },
  "language_info": {
   "name": "python",
   "version": "3.x"
  }
 },
 "nbformat": 4,
 "nbformat_minor": 4
}

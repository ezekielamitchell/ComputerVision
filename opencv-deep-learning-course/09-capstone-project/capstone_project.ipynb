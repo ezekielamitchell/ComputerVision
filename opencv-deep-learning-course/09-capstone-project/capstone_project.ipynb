{
 "cells": [
  {
   "cell_type": "markdown",
   "metadata": {},
   "source": [
    "# Section 9: Capstone Project\n",
    "\n",
    "Topics covered:\n",
    "- Introduction to CapStone Project\n",
    "- Capstone Part One - Variables and Background function\n",
    "- Capstone Part Two - Segmentation\n",
    "- Capstone Part Three - Counting and ConvexHull\n",
    "- Capstone Part Four - Bringing it all together"
   ]
  },
  {
   "cell_type": "code",
   "execution_count": null,
   "metadata": {},
   "outputs": [],
   "source": [
    "import cv2\n",
    "import numpy as np\n",
    "import matplotlib.pyplot as plt\n",
    "%matplotlib inline"
   ]
  },
  {
   "cell_type": "code",
   "execution_count": null,
   "metadata": {},
   "outputs": [],
   "source": [
    "# Your code here"
   ]
  }
 ],
 "metadata": {
  "kernelspec": {
   "display_name": "Python 3",
   "language": "python",
   "name": "python3"
  },
  "language_info": {
   "name": "python",
   "version": "3.x"
  }
 },
 "nbformat": 4,
 "nbformat_minor": 4
}
